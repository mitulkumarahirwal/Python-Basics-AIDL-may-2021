{
  "nbformat": 4,
  "nbformat_minor": 0,
  "metadata": {
    "colab": {
      "name": "01.Basics.ipynb",
      "provenance": [],
      "collapsed_sections": []
    },
    "kernelspec": {
      "name": "python3",
      "display_name": "Python 3"
    }
  },
  "cells": [
    {
      "cell_type": "code",
      "metadata": {
        "id": "iCZGmq_tIl0R",
        "colab_type": "code",
        "outputId": "0d32c30f-1826-4fb1-ae0c-910a510ce60a",
        "colab": {
          "base_uri": "https://localhost:8080/",
          "height": 36
        }
      },
      "source": [
        "# Numeric Data Types (Int, Float, Complex)\n",
        "a = 2\n",
        "print(a)"
      ],
      "execution_count": 0,
      "outputs": [
        {
          "output_type": "stream",
          "text": [
            "2\n"
          ],
          "name": "stdout"
        }
      ]
    },
    {
      "cell_type": "code",
      "metadata": {
        "id": "A1MTpDcKJUVr",
        "colab_type": "code",
        "outputId": "3a43610e-4c86-45ff-a97c-8b919fa5db99",
        "colab": {
          "base_uri": "https://localhost:8080/",
          "height": 36
        }
      },
      "source": [
        "a"
      ],
      "execution_count": 0,
      "outputs": [
        {
          "output_type": "execute_result",
          "data": {
            "text/plain": [
              "2"
            ]
          },
          "metadata": {
            "tags": []
          },
          "execution_count": 3
        }
      ]
    },
    {
      "cell_type": "code",
      "metadata": {
        "id": "0AdX93phJYeJ",
        "colab_type": "code",
        "outputId": "cb2b81a8-b9d0-41dc-a011-262c5f6f3ac3",
        "colab": {
          "base_uri": "https://localhost:8080/",
          "height": 36
        }
      },
      "source": [
        "b = 4\n",
        "a + b"
      ],
      "execution_count": 0,
      "outputs": [
        {
          "output_type": "execute_result",
          "data": {
            "text/plain": [
              "6"
            ]
          },
          "metadata": {
            "tags": []
          },
          "execution_count": 4
        }
      ]
    },
    {
      "cell_type": "code",
      "metadata": {
        "id": "2mhd3bdLJgFP",
        "colab_type": "code",
        "outputId": "2f7f8b62-2fbc-428b-e03d-d43d2754ce82",
        "colab": {
          "base_uri": "https://localhost:8080/",
          "height": 36
        }
      },
      "source": [
        "c = a*1.5\n",
        "print(c)"
      ],
      "execution_count": 0,
      "outputs": [
        {
          "output_type": "stream",
          "text": [
            "3.0\n"
          ],
          "name": "stdout"
        }
      ]
    },
    {
      "cell_type": "code",
      "metadata": {
        "id": "0io2-X2UJro-",
        "colab_type": "code",
        "outputId": "4967b85a-1d77-4c35-a518-7af106892521",
        "colab": {
          "base_uri": "https://localhost:8080/",
          "height": 36
        }
      },
      "source": [
        "# Data Type\n",
        "type(c)"
      ],
      "execution_count": 0,
      "outputs": [
        {
          "output_type": "execute_result",
          "data": {
            "text/plain": [
              "float"
            ]
          },
          "metadata": {
            "tags": []
          },
          "execution_count": 8
        }
      ]
    },
    {
      "cell_type": "code",
      "metadata": {
        "id": "s3TpGvMIMiuA",
        "colab_type": "code",
        "outputId": "256306f1-b869-4eb5-ca64-00780cbacfba",
        "colab": {
          "base_uri": "https://localhost:8080/",
          "height": 36
        }
      },
      "source": [
        "d = 4 + 3j\n",
        "print(d)"
      ],
      "execution_count": 0,
      "outputs": [
        {
          "output_type": "stream",
          "text": [
            "(4+3j)\n"
          ],
          "name": "stdout"
        }
      ]
    },
    {
      "cell_type": "code",
      "metadata": {
        "id": "ws-aEw01MqmY",
        "colab_type": "code",
        "outputId": "c2b96b3d-1470-4672-eae1-4f960541e0b7",
        "colab": {
          "base_uri": "https://localhost:8080/",
          "height": 36
        }
      },
      "source": [
        "type(d)"
      ],
      "execution_count": 0,
      "outputs": [
        {
          "output_type": "execute_result",
          "data": {
            "text/plain": [
              "complex"
            ]
          },
          "metadata": {
            "tags": []
          },
          "execution_count": 10
        }
      ]
    },
    {
      "cell_type": "code",
      "metadata": {
        "id": "tjoJQ38EMvyX",
        "colab_type": "code",
        "colab": {}
      },
      "source": [
        "# String Data Type\n",
        "a = \"A\""
      ],
      "execution_count": 0,
      "outputs": []
    },
    {
      "cell_type": "code",
      "metadata": {
        "id": "K9w1_IyhIphw",
        "colab_type": "code",
        "outputId": "c5a42fdc-8f00-4a9a-d261-ca2a2fb134cd",
        "colab": {
          "base_uri": "https://localhost:8080/",
          "height": 36
        }
      },
      "source": [
        "a"
      ],
      "execution_count": 0,
      "outputs": [
        {
          "output_type": "execute_result",
          "data": {
            "text/plain": [
              "'A'"
            ]
          },
          "metadata": {
            "tags": []
          },
          "execution_count": 12
        }
      ]
    },
    {
      "cell_type": "code",
      "metadata": {
        "id": "qcaIJ2AlIrPs",
        "colab_type": "code",
        "outputId": "c20ae5d9-3057-424e-8574-11054bcb8e10",
        "colab": {
          "base_uri": "https://localhost:8080/",
          "height": 36
        }
      },
      "source": [
        "type(a)"
      ],
      "execution_count": 0,
      "outputs": [
        {
          "output_type": "execute_result",
          "data": {
            "text/plain": [
              "str"
            ]
          },
          "metadata": {
            "tags": []
          },
          "execution_count": 13
        }
      ]
    },
    {
      "cell_type": "code",
      "metadata": {
        "id": "BI8Ld8MWItw2",
        "colab_type": "code",
        "colab": {}
      },
      "source": [
        "a =\"AI and ML workshop\""
      ],
      "execution_count": 0,
      "outputs": []
    },
    {
      "cell_type": "code",
      "metadata": {
        "id": "I_SegIY2JF5y",
        "colab_type": "code",
        "outputId": "25a6428d-49d7-4775-c964-27806078c6f0",
        "colab": {
          "base_uri": "https://localhost:8080/",
          "height": 36
        }
      },
      "source": [
        "print(a)"
      ],
      "execution_count": 0,
      "outputs": [
        {
          "output_type": "stream",
          "text": [
            "AI and ML workshop\n"
          ],
          "name": "stdout"
        }
      ]
    },
    {
      "cell_type": "code",
      "metadata": {
        "id": "tOQ4IlO7JJk6",
        "colab_type": "code",
        "outputId": "c17f7211-a207-442d-ff8d-d0b2f021a4c9",
        "colab": {
          "base_uri": "https://localhost:8080/",
          "height": 36
        }
      },
      "source": [
        "a[0]"
      ],
      "execution_count": 0,
      "outputs": [
        {
          "output_type": "execute_result",
          "data": {
            "text/plain": [
              "'A'"
            ]
          },
          "metadata": {
            "tags": []
          },
          "execution_count": 16
        }
      ]
    },
    {
      "cell_type": "code",
      "metadata": {
        "id": "4NFzeF_iJNyM",
        "colab_type": "code",
        "outputId": "91c47896-e265-4662-9dd2-49df9e0a46ba",
        "colab": {
          "base_uri": "https://localhost:8080/",
          "height": 36
        }
      },
      "source": [
        "a[0:2]"
      ],
      "execution_count": 0,
      "outputs": [
        {
          "output_type": "execute_result",
          "data": {
            "text/plain": [
              "'AI'"
            ]
          },
          "metadata": {
            "tags": []
          },
          "execution_count": 17
        }
      ]
    },
    {
      "cell_type": "code",
      "metadata": {
        "id": "ONMJbviaJSW_",
        "colab_type": "code",
        "outputId": "d63f6bf1-e0d8-41da-cac7-1928b06e234b",
        "colab": {
          "base_uri": "https://localhost:8080/",
          "height": 36
        }
      },
      "source": [
        "a[-1]\n"
      ],
      "execution_count": 0,
      "outputs": [
        {
          "output_type": "execute_result",
          "data": {
            "text/plain": [
              "'p'"
            ]
          },
          "metadata": {
            "tags": []
          },
          "execution_count": 20
        }
      ]
    },
    {
      "cell_type": "code",
      "metadata": {
        "id": "3LGDP7u8JYc3",
        "colab_type": "code",
        "outputId": "83338255-28e8-460c-bba3-525f65b36ead",
        "colab": {
          "base_uri": "https://localhost:8080/",
          "height": 36
        }
      },
      "source": [
        "a[-2]"
      ],
      "execution_count": 0,
      "outputs": [
        {
          "output_type": "execute_result",
          "data": {
            "text/plain": [
              "'o'"
            ]
          },
          "metadata": {
            "tags": []
          },
          "execution_count": 21
        }
      ]
    },
    {
      "cell_type": "code",
      "metadata": {
        "id": "grp1L3XtJcBK",
        "colab_type": "code",
        "outputId": "bd5f51a9-610a-4273-b464-602a80787aff",
        "colab": {
          "base_uri": "https://localhost:8080/",
          "height": 36
        }
      },
      "source": [
        "a[1:-4]"
      ],
      "execution_count": 0,
      "outputs": [
        {
          "output_type": "execute_result",
          "data": {
            "text/plain": [
              "'I and ML work'"
            ]
          },
          "metadata": {
            "tags": []
          },
          "execution_count": 22
        }
      ]
    },
    {
      "cell_type": "code",
      "metadata": {
        "id": "GMVDmgQDJgk4",
        "colab_type": "code",
        "outputId": "b2260598-b001-4d1f-9b4b-9cc2fdb86d5f",
        "colab": {
          "base_uri": "https://localhost:8080/",
          "height": 36
        }
      },
      "source": [
        "a[:]"
      ],
      "execution_count": 0,
      "outputs": [
        {
          "output_type": "execute_result",
          "data": {
            "text/plain": [
              "'AI and ML workshop'"
            ]
          },
          "metadata": {
            "tags": []
          },
          "execution_count": 23
        }
      ]
    },
    {
      "cell_type": "code",
      "metadata": {
        "id": "vFPaDQecJkmk",
        "colab_type": "code",
        "outputId": "888e9853-c5a4-4736-f6fb-ec015a8a16a9",
        "colab": {
          "base_uri": "https://localhost:8080/",
          "height": 36
        }
      },
      "source": [
        "a[9]\n",
        "a"
      ],
      "execution_count": 0,
      "outputs": [
        {
          "output_type": "execute_result",
          "data": {
            "text/plain": [
              "'AI and ML workshop'"
            ]
          },
          "metadata": {
            "tags": []
          },
          "execution_count": 26
        }
      ]
    },
    {
      "cell_type": "code",
      "metadata": {
        "id": "MPs4erwuJq-W",
        "colab_type": "code",
        "outputId": "440125a5-3e1d-47c6-ad33-467055d652ee",
        "colab": {
          "base_uri": "https://localhost:8080/",
          "height": 36
        }
      },
      "source": [
        "a.capitalize()"
      ],
      "execution_count": 0,
      "outputs": [
        {
          "output_type": "execute_result",
          "data": {
            "text/plain": [
              "'Ai and ml workshop'"
            ]
          },
          "metadata": {
            "tags": []
          },
          "execution_count": 27
        }
      ]
    },
    {
      "cell_type": "code",
      "metadata": {
        "id": "vbz-oXSXJ28Z",
        "colab_type": "code",
        "outputId": "c5ffadf8-1c3f-448e-f378-c928c89262bc",
        "colab": {
          "base_uri": "https://localhost:8080/",
          "height": 36
        }
      },
      "source": [
        "a.upper()"
      ],
      "execution_count": 0,
      "outputs": [
        {
          "output_type": "execute_result",
          "data": {
            "text/plain": [
              "'AI AND ML WORKSHOP'"
            ]
          },
          "metadata": {
            "tags": []
          },
          "execution_count": 28
        }
      ]
    },
    {
      "cell_type": "code",
      "metadata": {
        "id": "MZqC4WucK8ye",
        "colab_type": "code",
        "colab": {}
      },
      "source": [
        "b = \"mitul is working in machine learning\""
      ],
      "execution_count": 0,
      "outputs": []
    },
    {
      "cell_type": "code",
      "metadata": {
        "id": "aC9iCqq-Ltiv",
        "colab_type": "code",
        "outputId": "275941b8-6f26-4c13-bbf3-5beb8c000867",
        "colab": {
          "base_uri": "https://localhost:8080/",
          "height": 36
        }
      },
      "source": [
        "b.count('m')"
      ],
      "execution_count": 0,
      "outputs": [
        {
          "output_type": "execute_result",
          "data": {
            "text/plain": [
              "2"
            ]
          },
          "metadata": {
            "tags": []
          },
          "execution_count": 30
        }
      ]
    },
    {
      "cell_type": "code",
      "metadata": {
        "id": "_dq2YsHzLxUN",
        "colab_type": "code",
        "outputId": "971ff25f-1f68-44a0-bcd6-596cda6329fd",
        "colab": {
          "base_uri": "https://localhost:8080/",
          "height": 36
        }
      },
      "source": [
        "b.count('mitul')"
      ],
      "execution_count": 0,
      "outputs": [
        {
          "output_type": "execute_result",
          "data": {
            "text/plain": [
              "1"
            ]
          },
          "metadata": {
            "tags": []
          },
          "execution_count": 31
        }
      ]
    },
    {
      "cell_type": "code",
      "metadata": {
        "id": "Ys1tDleWL5JG",
        "colab_type": "code",
        "outputId": "5acfce4e-8200-4240-8a81-c0d7a3618a46",
        "colab": {
          "base_uri": "https://localhost:8080/",
          "height": 36
        }
      },
      "source": [
        "b.count(\"i\")"
      ],
      "execution_count": 0,
      "outputs": [
        {
          "output_type": "execute_result",
          "data": {
            "text/plain": [
              "6"
            ]
          },
          "metadata": {
            "tags": []
          },
          "execution_count": 32
        }
      ]
    },
    {
      "cell_type": "code",
      "metadata": {
        "id": "iMwn33k-L-hA",
        "colab_type": "code",
        "outputId": "689cacb9-9af9-45f7-bc04-61da4c834611",
        "colab": {
          "base_uri": "https://localhost:8080/",
          "height": 36
        }
      },
      "source": [
        "b.find('is')\n",
        "b"
      ],
      "execution_count": 0,
      "outputs": [
        {
          "output_type": "execute_result",
          "data": {
            "text/plain": [
              "'mitul is working in machine learning'"
            ]
          },
          "metadata": {
            "tags": []
          },
          "execution_count": 34
        }
      ]
    },
    {
      "cell_type": "code",
      "metadata": {
        "id": "kheddxmUMGyF",
        "colab_type": "code",
        "outputId": "61e63679-df63-45f5-a785-5feb562c07ac",
        "colab": {
          "base_uri": "https://localhost:8080/",
          "height": 36
        }
      },
      "source": [
        "b.find('w')"
      ],
      "execution_count": 0,
      "outputs": [
        {
          "output_type": "execute_result",
          "data": {
            "text/plain": [
              "9"
            ]
          },
          "metadata": {
            "tags": []
          },
          "execution_count": 35
        }
      ]
    },
    {
      "cell_type": "code",
      "metadata": {
        "id": "cLs_56VOMNu3",
        "colab_type": "code",
        "outputId": "b7b57aed-4388-4101-8051-9841ffe2afbb",
        "colab": {
          "base_uri": "https://localhost:8080/",
          "height": 36
        }
      },
      "source": [
        "b.replace(\"mitul\",\"amit\")"
      ],
      "execution_count": 0,
      "outputs": [
        {
          "output_type": "execute_result",
          "data": {
            "text/plain": [
              "'amit is working in machine learning'"
            ]
          },
          "metadata": {
            "tags": []
          },
          "execution_count": 36
        }
      ]
    },
    {
      "cell_type": "code",
      "metadata": {
        "id": "mb3syfX8MV77",
        "colab_type": "code",
        "outputId": "6842b60d-735d-4a58-8a2d-4702f21d7c72",
        "colab": {
          "base_uri": "https://localhost:8080/",
          "height": 36
        }
      },
      "source": [
        "b.title()"
      ],
      "execution_count": 0,
      "outputs": [
        {
          "output_type": "execute_result",
          "data": {
            "text/plain": [
              "'Mitul Is Working In Machine Learning'"
            ]
          },
          "metadata": {
            "tags": []
          },
          "execution_count": 37
        }
      ]
    },
    {
      "cell_type": "code",
      "metadata": {
        "id": "S47IBy7KMfD0",
        "colab_type": "code",
        "colab": {}
      },
      "source": [
        "b = b.replace(\"mitul\",\"amit\")"
      ],
      "execution_count": 0,
      "outputs": []
    },
    {
      "cell_type": "code",
      "metadata": {
        "id": "8aYM_5CqMo9v",
        "colab_type": "code",
        "outputId": "db378779-29a8-41f0-835d-d2730ef50cb0",
        "colab": {
          "base_uri": "https://localhost:8080/",
          "height": 36
        }
      },
      "source": [
        "b"
      ],
      "execution_count": 0,
      "outputs": [
        {
          "output_type": "execute_result",
          "data": {
            "text/plain": [
              "'amit is working in machine learning'"
            ]
          },
          "metadata": {
            "tags": []
          },
          "execution_count": 39
        }
      ]
    },
    {
      "cell_type": "code",
      "metadata": {
        "id": "897abzB-Mq6c",
        "colab_type": "code",
        "outputId": "e80e8171-dcdc-4c25-81c8-300b1ca8fab7",
        "colab": {
          "base_uri": "https://localhost:8080/",
          "height": 36
        }
      },
      "source": [
        "b.title()"
      ],
      "execution_count": 0,
      "outputs": [
        {
          "output_type": "execute_result",
          "data": {
            "text/plain": [
              "'Amit Is Working In Machine Learning'"
            ]
          },
          "metadata": {
            "tags": []
          },
          "execution_count": 40
        }
      ]
    },
    {
      "cell_type": "code",
      "metadata": {
        "id": "6by6bw0-MtuY",
        "colab_type": "code",
        "colab": {}
      },
      "source": [
        "# List \n",
        "L = []"
      ],
      "execution_count": 0,
      "outputs": []
    },
    {
      "cell_type": "code",
      "metadata": {
        "id": "b8WISyUANEyo",
        "colab_type": "code",
        "outputId": "f963154e-7483-44b0-c533-d238e3193777",
        "colab": {
          "base_uri": "https://localhost:8080/",
          "height": 36
        }
      },
      "source": [
        "type(L)"
      ],
      "execution_count": 0,
      "outputs": [
        {
          "output_type": "execute_result",
          "data": {
            "text/plain": [
              "list"
            ]
          },
          "metadata": {
            "tags": []
          },
          "execution_count": 42
        }
      ]
    },
    {
      "cell_type": "code",
      "metadata": {
        "id": "mFA0vvPLNGzD",
        "colab_type": "code",
        "colab": {}
      },
      "source": [
        "L=[1, 2, 3, \"mitul\", \"amit\"]"
      ],
      "execution_count": 0,
      "outputs": []
    },
    {
      "cell_type": "code",
      "metadata": {
        "id": "Aa2rHcDmNMrP",
        "colab_type": "code",
        "outputId": "2993ac16-cc01-43d8-c31d-5324799a908c",
        "colab": {
          "base_uri": "https://localhost:8080/",
          "height": 36
        }
      },
      "source": [
        "L"
      ],
      "execution_count": 0,
      "outputs": [
        {
          "output_type": "execute_result",
          "data": {
            "text/plain": [
              "[1, 2, 3, 'mitul', 'amit']"
            ]
          },
          "metadata": {
            "tags": []
          },
          "execution_count": 44
        }
      ]
    },
    {
      "cell_type": "code",
      "metadata": {
        "id": "fnYicGTiNO9R",
        "colab_type": "code",
        "outputId": "3c952a01-1a4c-4d10-a5d0-08c4192e9706",
        "colab": {
          "base_uri": "https://localhost:8080/",
          "height": 36
        }
      },
      "source": [
        "print(L)"
      ],
      "execution_count": 0,
      "outputs": [
        {
          "output_type": "stream",
          "text": [
            "[1, 2, 3, 'mitul', 'amit']\n"
          ],
          "name": "stdout"
        }
      ]
    },
    {
      "cell_type": "code",
      "metadata": {
        "id": "5_PIfa__NRyO",
        "colab_type": "code",
        "colab": {}
      },
      "source": [
        "L1=[1,2,3,4]\n",
        "L2=[6,7,8,9]\n"
      ],
      "execution_count": 0,
      "outputs": []
    },
    {
      "cell_type": "code",
      "metadata": {
        "id": "C0pv_OiQOnad",
        "colab_type": "code",
        "colab": {}
      },
      "source": [
        "L3=L1+L2"
      ],
      "execution_count": 0,
      "outputs": []
    },
    {
      "cell_type": "code",
      "metadata": {
        "id": "8mDnmhW3OqxL",
        "colab_type": "code",
        "outputId": "7f2e07ca-ca45-4615-db93-89d1ad911290",
        "colab": {
          "base_uri": "https://localhost:8080/",
          "height": 36
        }
      },
      "source": [
        "print(L3)"
      ],
      "execution_count": 0,
      "outputs": [
        {
          "output_type": "stream",
          "text": [
            "[1, 2, 3, 4, 6, 7, 8, 9]\n"
          ],
          "name": "stdout"
        }
      ]
    },
    {
      "cell_type": "code",
      "metadata": {
        "id": "UbHXNFKFOuJO",
        "colab_type": "code",
        "outputId": "4d39cf38-fcab-497d-af43-debbab3108ed",
        "colab": {
          "base_uri": "https://localhost:8080/",
          "height": 36
        }
      },
      "source": [
        "L3[0:4]"
      ],
      "execution_count": 0,
      "outputs": [
        {
          "output_type": "execute_result",
          "data": {
            "text/plain": [
              "[1, 2, 3, 4]"
            ]
          },
          "metadata": {
            "tags": []
          },
          "execution_count": 50
        }
      ]
    },
    {
      "cell_type": "code",
      "metadata": {
        "id": "nGjd2O82OzQn",
        "colab_type": "code",
        "colab": {}
      },
      "source": [
        "L1.append(\"mitul\")"
      ],
      "execution_count": 0,
      "outputs": []
    },
    {
      "cell_type": "code",
      "metadata": {
        "id": "XzivDCR0O6wn",
        "colab_type": "code",
        "outputId": "96ba5ff4-2a5c-4444-afb3-d74f217a16ab",
        "colab": {
          "base_uri": "https://localhost:8080/",
          "height": 36
        }
      },
      "source": [
        "L1"
      ],
      "execution_count": 0,
      "outputs": [
        {
          "output_type": "execute_result",
          "data": {
            "text/plain": [
              "[1, 2, 3, 4, 'mitul']"
            ]
          },
          "metadata": {
            "tags": []
          },
          "execution_count": 52
        }
      ]
    },
    {
      "cell_type": "code",
      "metadata": {
        "id": "uiEO7PC0O785",
        "colab_type": "code",
        "colab": {}
      },
      "source": [
        "L1.insert(2,\"kumar\")"
      ],
      "execution_count": 0,
      "outputs": []
    },
    {
      "cell_type": "code",
      "metadata": {
        "id": "OH46focYPE3G",
        "colab_type": "code",
        "outputId": "5e814850-e8d7-4cb0-afaa-8f64492705f3",
        "colab": {
          "base_uri": "https://localhost:8080/",
          "height": 36
        }
      },
      "source": [
        "L1"
      ],
      "execution_count": 0,
      "outputs": [
        {
          "output_type": "execute_result",
          "data": {
            "text/plain": [
              "[1, 2, 'kumar', 3, 4, 'mitul']"
            ]
          },
          "metadata": {
            "tags": []
          },
          "execution_count": 54
        }
      ]
    },
    {
      "cell_type": "code",
      "metadata": {
        "id": "096uMHXMPF-K",
        "colab_type": "code",
        "colab": {}
      },
      "source": [
        "L1.insert(2,45.5)"
      ],
      "execution_count": 0,
      "outputs": []
    },
    {
      "cell_type": "code",
      "metadata": {
        "id": "jXn1cZPcPQ1K",
        "colab_type": "code",
        "outputId": "82c6fd8b-554e-400c-84a2-ffa07c1498ff",
        "colab": {
          "base_uri": "https://localhost:8080/",
          "height": 36
        }
      },
      "source": [
        "L1"
      ],
      "execution_count": 0,
      "outputs": [
        {
          "output_type": "execute_result",
          "data": {
            "text/plain": [
              "[1, 2, 45.5, 'kumar', 3, 4, 'mitul']"
            ]
          },
          "metadata": {
            "tags": []
          },
          "execution_count": 56
        }
      ]
    },
    {
      "cell_type": "code",
      "metadata": {
        "id": "7Tw0qWzGPXtj",
        "colab_type": "code",
        "colab": {}
      },
      "source": [
        "L4=L1"
      ],
      "execution_count": 0,
      "outputs": []
    },
    {
      "cell_type": "code",
      "metadata": {
        "id": "HmNPsQo4Pcfa",
        "colab_type": "code",
        "outputId": "b0fcba37-7cfb-4ff8-8495-6bced3754b3e",
        "colab": {
          "base_uri": "https://localhost:8080/",
          "height": 36
        }
      },
      "source": [
        "L4"
      ],
      "execution_count": 0,
      "outputs": [
        {
          "output_type": "execute_result",
          "data": {
            "text/plain": [
              "[1, 2, 45.5, 'kumar', 3, 4, 'mitul']"
            ]
          },
          "metadata": {
            "tags": []
          },
          "execution_count": 58
        }
      ]
    },
    {
      "cell_type": "code",
      "metadata": {
        "id": "nz078ePrPgEM",
        "colab_type": "code",
        "colab": {}
      },
      "source": [
        "L4=L2.copy()"
      ],
      "execution_count": 0,
      "outputs": []
    },
    {
      "cell_type": "code",
      "metadata": {
        "id": "msJyTDeOPnfj",
        "colab_type": "code",
        "outputId": "143eac0d-b11b-4dfd-a50e-6774c0293c42",
        "colab": {
          "base_uri": "https://localhost:8080/",
          "height": 36
        }
      },
      "source": [
        "L4"
      ],
      "execution_count": 0,
      "outputs": [
        {
          "output_type": "execute_result",
          "data": {
            "text/plain": [
              "[1, 2, 45.5, 'kumar', 3, 4, 'mitul']"
            ]
          },
          "metadata": {
            "tags": []
          },
          "execution_count": 59
        }
      ]
    },
    {
      "cell_type": "code",
      "metadata": {
        "id": "OLY-yZisPpiQ",
        "colab_type": "code",
        "outputId": "0d14bae0-1fa7-4c87-f233-43b476d5fdf2",
        "colab": {
          "base_uri": "https://localhost:8080/",
          "height": 36
        }
      },
      "source": [
        "L1.count(2)"
      ],
      "execution_count": 0,
      "outputs": [
        {
          "output_type": "execute_result",
          "data": {
            "text/plain": [
              "1"
            ]
          },
          "metadata": {
            "tags": []
          },
          "execution_count": 60
        }
      ]
    },
    {
      "cell_type": "code",
      "metadata": {
        "id": "Kdp-v8jRPyKK",
        "colab_type": "code",
        "outputId": "bd0463eb-d740-4135-a27f-87fe449d5e45",
        "colab": {
          "base_uri": "https://localhost:8080/",
          "height": 36
        }
      },
      "source": [
        "L1.count(\"kumar\")"
      ],
      "execution_count": 0,
      "outputs": [
        {
          "output_type": "execute_result",
          "data": {
            "text/plain": [
              "1"
            ]
          },
          "metadata": {
            "tags": []
          },
          "execution_count": 61
        }
      ]
    },
    {
      "cell_type": "code",
      "metadata": {
        "id": "d5V9x8pYP4Gr",
        "colab_type": "code",
        "outputId": "3ce59068-cd68-4e4e-f11d-16a90b36574d",
        "colab": {
          "base_uri": "https://localhost:8080/",
          "height": 36
        }
      },
      "source": [
        "L1.count(\"4\")"
      ],
      "execution_count": 0,
      "outputs": [
        {
          "output_type": "execute_result",
          "data": {
            "text/plain": [
              "0"
            ]
          },
          "metadata": {
            "tags": []
          },
          "execution_count": 62
        }
      ]
    },
    {
      "cell_type": "code",
      "metadata": {
        "id": "Ap0WbwOXQFU1",
        "colab_type": "code",
        "outputId": "69d6041c-012b-43cc-dbea-3ab066fcc211",
        "colab": {
          "base_uri": "https://localhost:8080/",
          "height": 36
        }
      },
      "source": [
        "L1.count(4)"
      ],
      "execution_count": 0,
      "outputs": [
        {
          "output_type": "execute_result",
          "data": {
            "text/plain": [
              "1"
            ]
          },
          "metadata": {
            "tags": []
          },
          "execution_count": 63
        }
      ]
    },
    {
      "cell_type": "code",
      "metadata": {
        "id": "tugofhb8QK9S",
        "colab_type": "code",
        "outputId": "c6b25125-46b3-45a3-dc9e-7723821b041d",
        "colab": {
          "base_uri": "https://localhost:8080/",
          "height": 36
        }
      },
      "source": [
        "L1.index(\"kumar\")"
      ],
      "execution_count": 0,
      "outputs": [
        {
          "output_type": "execute_result",
          "data": {
            "text/plain": [
              "3"
            ]
          },
          "metadata": {
            "tags": []
          },
          "execution_count": 64
        }
      ]
    },
    {
      "cell_type": "code",
      "metadata": {
        "id": "w6geGrYeQUZh",
        "colab_type": "code",
        "outputId": "6fae7c33-51a6-4dd4-c806-dc84c41f7750",
        "colab": {
          "base_uri": "https://localhost:8080/",
          "height": 36
        }
      },
      "source": [
        "L1.index(4)"
      ],
      "execution_count": 0,
      "outputs": [
        {
          "output_type": "execute_result",
          "data": {
            "text/plain": [
              "5"
            ]
          },
          "metadata": {
            "tags": []
          },
          "execution_count": 65
        }
      ]
    },
    {
      "cell_type": "code",
      "metadata": {
        "id": "tkDA5yM6QW_p",
        "colab_type": "code",
        "colab": {}
      },
      "source": [
        "L1"
      ],
      "execution_count": 0,
      "outputs": []
    },
    {
      "cell_type": "code",
      "metadata": {
        "id": "4pHuir10Qd5w",
        "colab_type": "code",
        "outputId": "c17f88e3-201a-4818-d849-0ec935373469",
        "colab": {
          "base_uri": "https://localhost:8080/",
          "height": 36
        }
      },
      "source": [
        "L1.pop(2)"
      ],
      "execution_count": 0,
      "outputs": [
        {
          "output_type": "execute_result",
          "data": {
            "text/plain": [
              "45.5"
            ]
          },
          "metadata": {
            "tags": []
          },
          "execution_count": 66
        }
      ]
    },
    {
      "cell_type": "code",
      "metadata": {
        "id": "dzbfp86tQoh_",
        "colab_type": "code",
        "outputId": "6badecab-c5bc-456b-bdfd-5b734829e43d",
        "colab": {
          "base_uri": "https://localhost:8080/",
          "height": 36
        }
      },
      "source": [
        "L1"
      ],
      "execution_count": 0,
      "outputs": [
        {
          "output_type": "execute_result",
          "data": {
            "text/plain": [
              "[1, 2, 'kumar', 3, 4, 'mitul']"
            ]
          },
          "metadata": {
            "tags": []
          },
          "execution_count": 67
        }
      ]
    },
    {
      "cell_type": "code",
      "metadata": {
        "id": "CZojyAOkQqPB",
        "colab_type": "code",
        "outputId": "44685c2b-b9bc-4933-8154-b4fc04faef59",
        "colab": {
          "base_uri": "https://localhost:8080/",
          "height": 174
        }
      },
      "source": [
        "L1.sort()"
      ],
      "execution_count": 0,
      "outputs": [
        {
          "output_type": "error",
          "ename": "TypeError",
          "evalue": "ignored",
          "traceback": [
            "\u001b[0;31m---------------------------------------------------------------------------\u001b[0m",
            "\u001b[0;31mTypeError\u001b[0m                                 Traceback (most recent call last)",
            "\u001b[0;32m<ipython-input-68-06c2031a935e>\u001b[0m in \u001b[0;36m<module>\u001b[0;34m()\u001b[0m\n\u001b[0;32m----> 1\u001b[0;31m \u001b[0mL1\u001b[0m\u001b[0;34m.\u001b[0m\u001b[0msort\u001b[0m\u001b[0;34m(\u001b[0m\u001b[0;34m)\u001b[0m\u001b[0;34m\u001b[0m\u001b[0;34m\u001b[0m\u001b[0m\n\u001b[0m",
            "\u001b[0;31mTypeError\u001b[0m: '<' not supported between instances of 'str' and 'int'"
          ]
        }
      ]
    },
    {
      "cell_type": "code",
      "metadata": {
        "id": "HTvhiNJoQwE_",
        "colab_type": "code",
        "colab": {}
      },
      "source": [
        "L2"
      ],
      "execution_count": 0,
      "outputs": []
    },
    {
      "cell_type": "code",
      "metadata": {
        "id": "USnXkfe0Q0LU",
        "colab_type": "code",
        "colab": {}
      },
      "source": [
        "L2.insert(2,34)"
      ],
      "execution_count": 0,
      "outputs": []
    },
    {
      "cell_type": "code",
      "metadata": {
        "id": "AQ9lYEbUQ6EU",
        "colab_type": "code",
        "colab": {}
      },
      "source": [
        "L2.insert(3,12)"
      ],
      "execution_count": 0,
      "outputs": []
    },
    {
      "cell_type": "code",
      "metadata": {
        "id": "1Nx2YnsMQ_Jo",
        "colab_type": "code",
        "outputId": "8b902edc-c9a7-4811-bdc6-7b5c143b2fe1",
        "colab": {
          "base_uri": "https://localhost:8080/",
          "height": 36
        }
      },
      "source": [
        "L2"
      ],
      "execution_count": 0,
      "outputs": [
        {
          "output_type": "execute_result",
          "data": {
            "text/plain": [
              "[6, 7, 34, 12, 8, 9]"
            ]
          },
          "metadata": {
            "tags": []
          },
          "execution_count": 71
        }
      ]
    },
    {
      "cell_type": "code",
      "metadata": {
        "id": "uBdNsVL_Q_2j",
        "colab_type": "code",
        "colab": {}
      },
      "source": [
        "L2.sort()"
      ],
      "execution_count": 0,
      "outputs": []
    },
    {
      "cell_type": "code",
      "metadata": {
        "id": "358KM-FORC0s",
        "colab_type": "code",
        "outputId": "174c1693-f4da-43ad-baaa-bf1e071ce60f",
        "colab": {
          "base_uri": "https://localhost:8080/",
          "height": 36
        }
      },
      "source": [
        "L2"
      ],
      "execution_count": 0,
      "outputs": [
        {
          "output_type": "execute_result",
          "data": {
            "text/plain": [
              "[6, 7, 8, 9, 12, 34]"
            ]
          },
          "metadata": {
            "tags": []
          },
          "execution_count": 73
        }
      ]
    },
    {
      "cell_type": "code",
      "metadata": {
        "id": "l5ZSOHCNRD-_",
        "colab_type": "code",
        "colab": {}
      },
      "source": [
        "L2.sort(reverse=True)"
      ],
      "execution_count": 0,
      "outputs": []
    },
    {
      "cell_type": "code",
      "metadata": {
        "id": "VschtqBwRKf9",
        "colab_type": "code",
        "outputId": "1bf0125a-3b77-4f5b-dab5-5f4e50b31b67",
        "colab": {
          "base_uri": "https://localhost:8080/",
          "height": 36
        }
      },
      "source": [
        "L2"
      ],
      "execution_count": 0,
      "outputs": [
        {
          "output_type": "execute_result",
          "data": {
            "text/plain": [
              "[34, 12, 9, 8, 7, 6]"
            ]
          },
          "metadata": {
            "tags": []
          },
          "execution_count": 75
        }
      ]
    },
    {
      "cell_type": "code",
      "metadata": {
        "id": "kAQBPJMvRLsJ",
        "colab_type": "code",
        "colab": {}
      },
      "source": [
        "L2.remove(34)"
      ],
      "execution_count": 0,
      "outputs": []
    },
    {
      "cell_type": "code",
      "metadata": {
        "id": "NN3CtuHeRSD4",
        "colab_type": "code",
        "outputId": "c3748b3e-a11d-43a9-da47-91c7ca8a5b37",
        "colab": {
          "base_uri": "https://localhost:8080/",
          "height": 36
        }
      },
      "source": [
        "print(L2)"
      ],
      "execution_count": 0,
      "outputs": [
        {
          "output_type": "stream",
          "text": [
            "[12, 9, 8, 7, 6]\n"
          ],
          "name": "stdout"
        }
      ]
    },
    {
      "cell_type": "code",
      "metadata": {
        "id": "HbmHH85QRUa2",
        "colab_type": "code",
        "colab": {}
      },
      "source": [
        "# Tuple\n",
        "t=()"
      ],
      "execution_count": 0,
      "outputs": []
    },
    {
      "cell_type": "code",
      "metadata": {
        "id": "HBvZ9z-nSq45",
        "colab_type": "code",
        "outputId": "3df0d993-7740-4e0e-c973-984793740183",
        "colab": {
          "base_uri": "https://localhost:8080/",
          "height": 36
        }
      },
      "source": [
        "type(t)"
      ],
      "execution_count": 0,
      "outputs": [
        {
          "output_type": "execute_result",
          "data": {
            "text/plain": [
              "tuple"
            ]
          },
          "metadata": {
            "tags": []
          },
          "execution_count": 79
        }
      ]
    },
    {
      "cell_type": "code",
      "metadata": {
        "id": "X6g8fz1ESszu",
        "colab_type": "code",
        "colab": {}
      },
      "source": [
        "t=(12, 90, \"mitul\", False, 22+3j)"
      ],
      "execution_count": 0,
      "outputs": []
    },
    {
      "cell_type": "code",
      "metadata": {
        "id": "iAljt7AGS216",
        "colab_type": "code",
        "outputId": "a6d349b5-cfd5-47cc-ffbc-d17677fb036c",
        "colab": {
          "base_uri": "https://localhost:8080/",
          "height": 36
        }
      },
      "source": [
        "print(t)"
      ],
      "execution_count": 0,
      "outputs": [
        {
          "output_type": "stream",
          "text": [
            "(12, 90, 'mitul', False, (22+3j))\n"
          ],
          "name": "stdout"
        }
      ]
    },
    {
      "cell_type": "code",
      "metadata": {
        "id": "8gbAQc_XS6L6",
        "colab_type": "code",
        "outputId": "4d97ece7-7ad8-4c18-c8cd-54127a388d69",
        "colab": {
          "base_uri": "https://localhost:8080/",
          "height": 36
        }
      },
      "source": [
        "t[4]"
      ],
      "execution_count": 0,
      "outputs": [
        {
          "output_type": "execute_result",
          "data": {
            "text/plain": [
              "(22+3j)"
            ]
          },
          "metadata": {
            "tags": []
          },
          "execution_count": 82
        }
      ]
    },
    {
      "cell_type": "code",
      "metadata": {
        "id": "KsG-PG_YS94s",
        "colab_type": "code",
        "outputId": "104fdd61-3222-4334-e633-10434e9351e1",
        "colab": {
          "base_uri": "https://localhost:8080/",
          "height": 36
        }
      },
      "source": [
        "t[0:2]"
      ],
      "execution_count": 0,
      "outputs": [
        {
          "output_type": "execute_result",
          "data": {
            "text/plain": [
              "(12, 90)"
            ]
          },
          "metadata": {
            "tags": []
          },
          "execution_count": 83
        }
      ]
    },
    {
      "cell_type": "code",
      "metadata": {
        "id": "iv8BeBUTTM8j",
        "colab_type": "code",
        "outputId": "dfa944a9-7244-48c9-f982-e2a332f15d57",
        "colab": {
          "base_uri": "https://localhost:8080/",
          "height": 36
        }
      },
      "source": [
        "t[-2]"
      ],
      "execution_count": 0,
      "outputs": [
        {
          "output_type": "execute_result",
          "data": {
            "text/plain": [
              "False"
            ]
          },
          "metadata": {
            "tags": []
          },
          "execution_count": 84
        }
      ]
    },
    {
      "cell_type": "code",
      "metadata": {
        "id": "kW0Qg9GSTQzz",
        "colab_type": "code",
        "colab": {}
      },
      "source": [
        "#Dictoinary\n",
        "d={}"
      ],
      "execution_count": 0,
      "outputs": []
    },
    {
      "cell_type": "code",
      "metadata": {
        "id": "cI3dDFUiTY5b",
        "colab_type": "code",
        "outputId": "5ca34bf5-c768-42e7-aee8-a5017720c55c",
        "colab": {
          "base_uri": "https://localhost:8080/",
          "height": 36
        }
      },
      "source": [
        "type(d)"
      ],
      "execution_count": 0,
      "outputs": [
        {
          "output_type": "execute_result",
          "data": {
            "text/plain": [
              "dict"
            ]
          },
          "metadata": {
            "tags": []
          },
          "execution_count": 86
        }
      ]
    },
    {
      "cell_type": "code",
      "metadata": {
        "id": "6_le2rqMTbFf",
        "colab_type": "code",
        "colab": {}
      },
      "source": [
        "d= {\"department\":\"CSE\", \"class\":\"first\"}"
      ],
      "execution_count": 0,
      "outputs": []
    },
    {
      "cell_type": "code",
      "metadata": {
        "id": "8ljFPFdoT5Rn",
        "colab_type": "code",
        "outputId": "28208a7d-809e-4085-8a6b-e530478b06df",
        "colab": {
          "base_uri": "https://localhost:8080/",
          "height": 36
        }
      },
      "source": [
        "d"
      ],
      "execution_count": 0,
      "outputs": [
        {
          "output_type": "execute_result",
          "data": {
            "text/plain": [
              "{'class': 'first', 'department': 'CSE'}"
            ]
          },
          "metadata": {
            "tags": []
          },
          "execution_count": 88
        }
      ]
    },
    {
      "cell_type": "code",
      "metadata": {
        "id": "t09mJT3RT63b",
        "colab_type": "code",
        "outputId": "7b2aa8b8-ec4d-41aa-ecb5-68eb74bc63e6",
        "colab": {
          "base_uri": "https://localhost:8080/",
          "height": 36
        }
      },
      "source": [
        "d.keys()"
      ],
      "execution_count": 0,
      "outputs": [
        {
          "output_type": "execute_result",
          "data": {
            "text/plain": [
              "dict_keys(['department', 'class'])"
            ]
          },
          "metadata": {
            "tags": []
          },
          "execution_count": 89
        }
      ]
    },
    {
      "cell_type": "code",
      "metadata": {
        "id": "vGfWwNGTT-_O",
        "colab_type": "code",
        "outputId": "3961ab0a-d88c-44a9-9c5a-eb782eec3e13",
        "colab": {
          "base_uri": "https://localhost:8080/",
          "height": 36
        }
      },
      "source": [
        "d.values()"
      ],
      "execution_count": 0,
      "outputs": [
        {
          "output_type": "execute_result",
          "data": {
            "text/plain": [
              "dict_values(['CSE', 'first'])"
            ]
          },
          "metadata": {
            "tags": []
          },
          "execution_count": 90
        }
      ]
    },
    {
      "cell_type": "code",
      "metadata": {
        "id": "QZzC_kd8UEDs",
        "colab_type": "code",
        "outputId": "b21d4db4-bdf6-4453-b546-04d26ce12801",
        "colab": {
          "base_uri": "https://localhost:8080/",
          "height": 36
        }
      },
      "source": [
        "d.items()"
      ],
      "execution_count": 0,
      "outputs": [
        {
          "output_type": "execute_result",
          "data": {
            "text/plain": [
              "dict_items([('department', 'CSE'), ('class', 'first')])"
            ]
          },
          "metadata": {
            "tags": []
          },
          "execution_count": 91
        }
      ]
    },
    {
      "cell_type": "code",
      "metadata": {
        "id": "feckFJdTUILy",
        "colab_type": "code",
        "outputId": "a14eef52-e398-4bdc-d197-e43bc7cb6e62",
        "colab": {
          "base_uri": "https://localhost:8080/",
          "height": 36
        }
      },
      "source": [
        "d[\"department\"]"
      ],
      "execution_count": 0,
      "outputs": [
        {
          "output_type": "execute_result",
          "data": {
            "text/plain": [
              "'CSE'"
            ]
          },
          "metadata": {
            "tags": []
          },
          "execution_count": 92
        }
      ]
    },
    {
      "cell_type": "code",
      "metadata": {
        "id": "Q5qeQ7VNUOgH",
        "colab_type": "code",
        "colab": {}
      },
      "source": [
        "d[\"game\"] = \"football\""
      ],
      "execution_count": 0,
      "outputs": []
    },
    {
      "cell_type": "code",
      "metadata": {
        "id": "zVsv5gwtUWG1",
        "colab_type": "code",
        "outputId": "cd5e34c2-b660-41c2-e3f6-6470b3adc270",
        "colab": {
          "base_uri": "https://localhost:8080/",
          "height": 36
        }
      },
      "source": [
        "d"
      ],
      "execution_count": 0,
      "outputs": [
        {
          "output_type": "execute_result",
          "data": {
            "text/plain": [
              "{'class': 'first', 'department': 'CSE', 'game': 'football'}"
            ]
          },
          "metadata": {
            "tags": []
          },
          "execution_count": 94
        }
      ]
    },
    {
      "cell_type": "code",
      "metadata": {
        "id": "0m86kLolU7TC",
        "colab_type": "code",
        "colab": {}
      },
      "source": [
        "d[2]=\"mitul\""
      ],
      "execution_count": 0,
      "outputs": []
    },
    {
      "cell_type": "code",
      "metadata": {
        "id": "NtUSb0xwVLdz",
        "colab_type": "code",
        "outputId": "9dfc4e96-090f-4a45-a2de-88e54afc6ca9",
        "colab": {
          "base_uri": "https://localhost:8080/",
          "height": 36
        }
      },
      "source": [
        "d"
      ],
      "execution_count": 0,
      "outputs": [
        {
          "output_type": "execute_result",
          "data": {
            "text/plain": [
              "{2: 'mitul', 'class': 'first', 'department': 'CSE', 'game': 'football'}"
            ]
          },
          "metadata": {
            "tags": []
          },
          "execution_count": 96
        }
      ]
    },
    {
      "cell_type": "code",
      "metadata": {
        "id": "nr-XIAOMVMqZ",
        "colab_type": "code",
        "colab": {}
      },
      "source": [
        "d['class']=\"third\""
      ],
      "execution_count": 0,
      "outputs": []
    },
    {
      "cell_type": "code",
      "metadata": {
        "id": "9EZv9UOfVUcM",
        "colab_type": "code",
        "outputId": "6d303d1a-f8df-487f-d3e0-a7abbb64f4df",
        "colab": {
          "base_uri": "https://localhost:8080/",
          "height": 36
        }
      },
      "source": [
        "d"
      ],
      "execution_count": 0,
      "outputs": [
        {
          "output_type": "execute_result",
          "data": {
            "text/plain": [
              "{2: 'mitul', 'class': 'third', 'department': 'CSE', 'game': 'football'}"
            ]
          },
          "metadata": {
            "tags": []
          },
          "execution_count": 98
        }
      ]
    },
    {
      "cell_type": "code",
      "metadata": {
        "id": "pYMxEJr6FKOp",
        "colab_type": "code",
        "outputId": "ff00bccb-8f13-4174-c2c9-3a10d3731074",
        "colab": {
          "base_uri": "https://localhost:8080/",
          "height": 73
        }
      },
      "source": [
        "# conditional statements \n",
        "# if\n",
        "i=3\n",
        "if i>1:\n",
        "  print(\"New\")\n",
        "  print(\"Hello\")\n",
        "  print(\"Dear\")"
      ],
      "execution_count": 0,
      "outputs": [
        {
          "output_type": "stream",
          "text": [
            "New\n",
            "Hello\n",
            "Dear\n"
          ],
          "name": "stdout"
        }
      ]
    },
    {
      "cell_type": "code",
      "metadata": {
        "id": "O-VBK_TlJGWc",
        "colab_type": "code",
        "outputId": "f31154f0-4bdb-4a5e-c8d4-c63dddeb4d72",
        "colab": {
          "base_uri": "https://localhost:8080/",
          "height": 54
        }
      },
      "source": [
        "# if else\n",
        "i=2\n",
        "if i>1:\n",
        "  print(\"Hello\")\n",
        "  print(\"Dear\")\n",
        "else:\n",
        "  print(\"Hi\")\n",
        "  print(\"Dear\")"
      ],
      "execution_count": 0,
      "outputs": [
        {
          "output_type": "stream",
          "text": [
            "Hello\n",
            "Dear\n"
          ],
          "name": "stdout"
        }
      ]
    },
    {
      "cell_type": "code",
      "metadata": {
        "id": "3c1Qd-9JKHTK",
        "colab_type": "code",
        "outputId": "cc52d57f-bb35-4125-ea3e-daaa25c0ed33",
        "colab": {
          "base_uri": "https://localhost:8080/",
          "height": 54
        }
      },
      "source": [
        "# if elif else\n",
        "i=-1\n",
        "if i>1:\n",
        "  print(\"Hello\")\n",
        "  print(\"Dear\")\n",
        "elif i==0:\n",
        "  print(\"Good Morning\")\n",
        "  print(\"Dear\")\n",
        "else:\n",
        "  print(\"Hi\")\n",
        "  print(\"Dear\")"
      ],
      "execution_count": 0,
      "outputs": [
        {
          "output_type": "stream",
          "text": [
            "Hi\n",
            "Dear\n"
          ],
          "name": "stdout"
        }
      ]
    },
    {
      "cell_type": "code",
      "metadata": {
        "id": "kwhnl9OQK5kP",
        "colab_type": "code",
        "outputId": "88a722fb-27c6-45fb-fff8-674b7c83e999",
        "colab": {
          "base_uri": "https://localhost:8080/",
          "height": 54
        }
      },
      "source": [
        "# if \n",
        "i=2\n",
        "if i in [0, 1, 2]:\n",
        "  print(\"Hello\")\n",
        "  print(\"Dear\")\n",
        "else:\n",
        "  print(\"Hi\")\n",
        "  print(\"Dear\")"
      ],
      "execution_count": 0,
      "outputs": [
        {
          "output_type": "stream",
          "text": [
            "Hello\n",
            "Dear\n"
          ],
          "name": "stdout"
        }
      ]
    },
    {
      "cell_type": "code",
      "metadata": {
        "id": "92IWmpksLM-a",
        "colab_type": "code",
        "outputId": "481bef23-86df-4c60-876d-40781e6eeca2",
        "colab": {
          "base_uri": "https://localhost:8080/",
          "height": 54
        }
      },
      "source": [
        "# if \n",
        "i=\"old\"\n",
        "if i in [\"new\", \"old\", \"recent\"]:\n",
        "  print(\"Hello\")\n",
        "  print(\"Dear\")\n",
        "else:\n",
        "  print(\"Hi\")\n",
        "  print(\"Dear\")"
      ],
      "execution_count": 0,
      "outputs": [
        {
          "output_type": "stream",
          "text": [
            "Hello\n",
            "Dear\n"
          ],
          "name": "stdout"
        }
      ]
    },
    {
      "cell_type": "code",
      "metadata": {
        "id": "sh05XTYGMSmJ",
        "colab_type": "code",
        "outputId": "bda0693c-3cbc-43c5-a47f-ee562e174797",
        "colab": {
          "base_uri": "https://localhost:8080/",
          "height": 36
        }
      },
      "source": [
        "# logical AND OR NOT\n",
        "i=1\n",
        "j=1\n",
        "if i==0 and j==0:\n",
        "  print(\"AND\")\n",
        "elif i==0 or j==0:\n",
        "  print(\"RO\")\n",
        "elif not i == 0:\n",
        "  print(\"NOT\")"
      ],
      "execution_count": 0,
      "outputs": [
        {
          "output_type": "stream",
          "text": [
            "NOT\n"
          ],
          "name": "stdout"
        }
      ]
    },
    {
      "cell_type": "code",
      "metadata": {
        "id": "5fB4tZ2NVWmL",
        "colab_type": "code",
        "outputId": "ccec769d-3736-4091-b653-3fc5eaba656c",
        "colab": {
          "base_uri": "https://localhost:8080/",
          "height": 110
        }
      },
      "source": [
        "# loops\n",
        "for i in range(5):\n",
        "  print(\"amit\")"
      ],
      "execution_count": 0,
      "outputs": [
        {
          "output_type": "stream",
          "text": [
            "amit\n",
            "amit\n",
            "amit\n",
            "amit\n",
            "amit\n"
          ],
          "name": "stdout"
        }
      ]
    },
    {
      "cell_type": "code",
      "metadata": {
        "id": "rSOcvYZsVr_o",
        "colab_type": "code",
        "outputId": "04a14979-2cf1-4f05-e481-ac2dfe546184",
        "colab": {
          "base_uri": "https://localhost:8080/",
          "height": 91
        }
      },
      "source": [
        "for i in range(1,5):\n",
        "  print(\"amit\"+str(i))"
      ],
      "execution_count": 0,
      "outputs": [
        {
          "output_type": "stream",
          "text": [
            "amit1\n",
            "amit2\n",
            "amit3\n",
            "amit4\n"
          ],
          "name": "stdout"
        }
      ]
    },
    {
      "cell_type": "code",
      "metadata": {
        "id": "Csw156L5V18D",
        "colab_type": "code",
        "outputId": "cb307c55-b6e0-43ff-a908-ff4a3dc0c2f6",
        "colab": {
          "base_uri": "https://localhost:8080/",
          "height": 73
        }
      },
      "source": [
        "for i in range(1,10,3):\n",
        "  print(\"amit\"+str(i))"
      ],
      "execution_count": 0,
      "outputs": [
        {
          "output_type": "stream",
          "text": [
            "amit1\n",
            "amit4\n",
            "amit7\n"
          ],
          "name": "stdout"
        }
      ]
    },
    {
      "cell_type": "code",
      "metadata": {
        "id": "bMHiQ8c6WGQq",
        "colab_type": "code",
        "outputId": "ab156660-ca85-46ec-f0b2-a3641bb13d05",
        "colab": {
          "base_uri": "https://localhost:8080/",
          "height": 110
        }
      },
      "source": [
        "i=0\n",
        "while i<5:\n",
        "  print(\"amit\"+str(i))\n",
        "  i=i+1"
      ],
      "execution_count": 0,
      "outputs": [
        {
          "output_type": "stream",
          "text": [
            "amit0\n",
            "amit1\n",
            "amit2\n",
            "amit3\n",
            "amit4\n"
          ],
          "name": "stdout"
        }
      ]
    },
    {
      "cell_type": "code",
      "metadata": {
        "id": "9PbqqHvAWU9o",
        "colab_type": "code",
        "colab": {}
      },
      "source": [
        "even=[]\n",
        "odd=[]\n",
        "for i in range(1,31):\n",
        "  if i%2==0:\n",
        "    even.append(i)\n",
        "  else:\n",
        "    odd.append(i)"
      ],
      "execution_count": 0,
      "outputs": []
    },
    {
      "cell_type": "code",
      "metadata": {
        "id": "i4W20tLAXM39",
        "colab_type": "code",
        "outputId": "4d382371-03c2-43df-a190-7c75a2c4e9e5",
        "colab": {
          "base_uri": "https://localhost:8080/",
          "height": 36
        }
      },
      "source": [
        "print(even)"
      ],
      "execution_count": 0,
      "outputs": [
        {
          "output_type": "stream",
          "text": [
            "[2, 4, 6, 8, 10, 12, 14, 16, 18, 20, 22, 24, 26, 28, 30]\n"
          ],
          "name": "stdout"
        }
      ]
    },
    {
      "cell_type": "code",
      "metadata": {
        "id": "3OS0ZrR_XQiP",
        "colab_type": "code",
        "outputId": "17c4ae7a-404d-4a25-e6f1-d0fe8404a6f3",
        "colab": {
          "base_uri": "https://localhost:8080/",
          "height": 36
        }
      },
      "source": [
        "print(odd)"
      ],
      "execution_count": 0,
      "outputs": [
        {
          "output_type": "stream",
          "text": [
            "[1, 3, 5, 7, 9, 11, 13, 15, 17, 19, 21, 23, 25, 27, 29]\n"
          ],
          "name": "stdout"
        }
      ]
    },
    {
      "cell_type": "code",
      "metadata": {
        "id": "CMaj5qxoXSSU",
        "colab_type": "code",
        "colab": {}
      },
      "source": [
        "# Function \n",
        "def display_data():\n",
        "  print(\"New\")"
      ],
      "execution_count": 0,
      "outputs": []
    },
    {
      "cell_type": "code",
      "metadata": {
        "id": "6w1taAnlXkKl",
        "colab_type": "code",
        "outputId": "a2958ba8-2207-4556-e046-be240355cbcb",
        "colab": {
          "base_uri": "https://localhost:8080/",
          "height": 36
        }
      },
      "source": [
        "display_data()"
      ],
      "execution_count": 0,
      "outputs": [
        {
          "output_type": "stream",
          "text": [
            "New\n"
          ],
          "name": "stdout"
        }
      ]
    },
    {
      "cell_type": "code",
      "metadata": {
        "id": "EOoiO86UXoc6",
        "colab_type": "code",
        "outputId": "782d28c3-2ab7-4053-fe7c-6d4fa44f0d4d",
        "colab": {
          "base_uri": "https://localhost:8080/",
          "height": 36
        }
      },
      "source": [
        "a=input(\"Enter first number:\")"
      ],
      "execution_count": 0,
      "outputs": [
        {
          "output_type": "stream",
          "text": [
            "Enter first number:12\n"
          ],
          "name": "stdout"
        }
      ]
    },
    {
      "cell_type": "code",
      "metadata": {
        "id": "FzIClo5IYw3D",
        "colab_type": "code",
        "outputId": "e9f1ff41-6254-46d4-9236-d3510eac76d1",
        "colab": {
          "base_uri": "https://localhost:8080/",
          "height": 36
        }
      },
      "source": [
        "a"
      ],
      "execution_count": 0,
      "outputs": [
        {
          "output_type": "execute_result",
          "data": {
            "text/plain": [
              "'12'"
            ]
          },
          "metadata": {
            "tags": []
          },
          "execution_count": 136
        }
      ]
    },
    {
      "cell_type": "code",
      "metadata": {
        "id": "BsNXDqnZY1qM",
        "colab_type": "code",
        "outputId": "a0930474-6cda-454c-c7d1-db00ebb84e9c",
        "colab": {
          "base_uri": "https://localhost:8080/",
          "height": 36
        }
      },
      "source": [
        "type(a)"
      ],
      "execution_count": 0,
      "outputs": [
        {
          "output_type": "execute_result",
          "data": {
            "text/plain": [
              "str"
            ]
          },
          "metadata": {
            "tags": []
          },
          "execution_count": 137
        }
      ]
    },
    {
      "cell_type": "code",
      "metadata": {
        "id": "PZGK7wkcY5ZI",
        "colab_type": "code",
        "outputId": "a92e35cf-8a36-47ac-d442-e3ef060d5fac",
        "colab": {
          "base_uri": "https://localhost:8080/",
          "height": 36
        }
      },
      "source": [
        "a=int(input(\"Enter number:\"))"
      ],
      "execution_count": 0,
      "outputs": [
        {
          "output_type": "stream",
          "text": [
            "Enter number:23\n"
          ],
          "name": "stdout"
        }
      ]
    },
    {
      "cell_type": "code",
      "metadata": {
        "id": "DpVHOQS9ZAZa",
        "colab_type": "code",
        "outputId": "39ec5a3e-6cbb-4b41-e427-9b192ecc6401",
        "colab": {
          "base_uri": "https://localhost:8080/",
          "height": 36
        }
      },
      "source": [
        "a"
      ],
      "execution_count": 0,
      "outputs": [
        {
          "output_type": "execute_result",
          "data": {
            "text/plain": [
              "23"
            ]
          },
          "metadata": {
            "tags": []
          },
          "execution_count": 139
        }
      ]
    },
    {
      "cell_type": "code",
      "metadata": {
        "id": "wMaYPeLCZEL0",
        "colab_type": "code",
        "outputId": "69911aa4-4cb8-480b-dcdf-6682ee740a99",
        "colab": {
          "base_uri": "https://localhost:8080/",
          "height": 36
        }
      },
      "source": [
        "type(a)"
      ],
      "execution_count": 0,
      "outputs": [
        {
          "output_type": "execute_result",
          "data": {
            "text/plain": [
              "int"
            ]
          },
          "metadata": {
            "tags": []
          },
          "execution_count": 140
        }
      ]
    },
    {
      "cell_type": "code",
      "metadata": {
        "id": "NMWaKDlxZGKJ",
        "colab_type": "code",
        "colab": {}
      },
      "source": [
        "def sum():\n",
        "  a=int(input(\"Enter first number:\"))\n",
        "  b=int(input(\"Enter second number:\"))\n",
        "  c=a+b\n",
        "  print(c)"
      ],
      "execution_count": 0,
      "outputs": []
    },
    {
      "cell_type": "code",
      "metadata": {
        "id": "KFDstzPCZjv4",
        "colab_type": "code",
        "colab": {}
      },
      "source": [
        "sum()"
      ],
      "execution_count": 0,
      "outputs": []
    },
    {
      "cell_type": "code",
      "metadata": {
        "id": "WRhjiWIIZp69",
        "colab_type": "code",
        "colab": {}
      },
      "source": [
        "def sum1(a,b):\n",
        "  c=a+b\n",
        "  print(c)"
      ],
      "execution_count": 0,
      "outputs": []
    },
    {
      "cell_type": "code",
      "metadata": {
        "id": "hGYpvRYxZ7B1",
        "colab_type": "code",
        "outputId": "5cc1adc3-9262-4af0-f57d-e83f95e2cc89",
        "colab": {
          "base_uri": "https://localhost:8080/",
          "height": 36
        }
      },
      "source": [
        "sum1(12,14)"
      ],
      "execution_count": 0,
      "outputs": [
        {
          "output_type": "stream",
          "text": [
            "26\n"
          ],
          "name": "stdout"
        }
      ]
    },
    {
      "cell_type": "code",
      "metadata": {
        "id": "_aMnSw2iZ95j",
        "colab_type": "code",
        "colab": {}
      },
      "source": [
        "def sum1(a,b):\n",
        "  c=a+b\n",
        "  return c"
      ],
      "execution_count": 0,
      "outputs": []
    },
    {
      "cell_type": "code",
      "metadata": {
        "id": "ldrg-76MaHDM",
        "colab_type": "code",
        "colab": {}
      },
      "source": [
        "sum1(1,3)"
      ],
      "execution_count": 0,
      "outputs": []
    },
    {
      "cell_type": "code",
      "metadata": {
        "id": "D9ONiLbFaKTO",
        "colab_type": "code",
        "colab": {}
      },
      "source": [
        "output=sum1(2,4)"
      ],
      "execution_count": 0,
      "outputs": []
    },
    {
      "cell_type": "code",
      "metadata": {
        "id": "uBRsLG4iaVcm",
        "colab_type": "code",
        "outputId": "8be5e8c1-de78-4b0b-c0da-86c789cddf8e",
        "colab": {
          "base_uri": "https://localhost:8080/",
          "height": 36
        }
      },
      "source": [
        "output"
      ],
      "execution_count": 0,
      "outputs": [
        {
          "output_type": "execute_result",
          "data": {
            "text/plain": [
              "6"
            ]
          },
          "metadata": {
            "tags": []
          },
          "execution_count": 153
        }
      ]
    },
    {
      "cell_type": "code",
      "metadata": {
        "id": "lCIrxky8aXp6",
        "colab_type": "code",
        "colab": {}
      },
      "source": [
        ""
      ],
      "execution_count": 0,
      "outputs": []
    }
  ]
}