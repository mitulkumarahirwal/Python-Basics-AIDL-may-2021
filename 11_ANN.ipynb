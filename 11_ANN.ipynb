{
  "nbformat": 4,
  "nbformat_minor": 0,
  "metadata": {
    "colab": {
      "name": "11.ANN.ipynb",
      "provenance": [],
      "collapsed_sections": []
    },
    "kernelspec": {
      "name": "python3",
      "display_name": "Python 3"
    }
  },
  "cells": [
    {
      "cell_type": "code",
      "metadata": {
        "id": "MEvwjcgTWlwh"
      },
      "source": [
        "import tensorflow as tf\n",
        "import matplotlib.pyplot as plt\n",
        "import numpy as np\n",
        "from sklearn.model_selection import train_test_split \n",
        "from sklearn import metrics"
      ],
      "execution_count": null,
      "outputs": []
    },
    {
      "cell_type": "code",
      "metadata": {
        "id": "g_Cqk4mXXi5r",
        "colab": {
          "base_uri": "https://localhost:8080/"
        },
        "outputId": "b33948d5-6885-4116-c81f-ce678a770393"
      },
      "source": [
        "path='https://raw.githubusercontent.com/mitulkumarahirwal/digits/master/digits.csv'\n",
        "minst = np.genfromtxt(path, delimiter=\",\", skip_header=1)\n",
        "minst.shape #100 samples(rows), first column (label) , 2 to 785 (pixel values 28x28)\n"
      ],
      "execution_count": null,
      "outputs": [
        {
          "output_type": "execute_result",
          "data": {
            "text/plain": [
              "(100, 785)"
            ]
          },
          "metadata": {
            "tags": []
          },
          "execution_count": 25
        }
      ]
    },
    {
      "cell_type": "code",
      "metadata": {
        "id": "GzHzwx0wX__i",
        "colab": {
          "base_uri": "https://localhost:8080/"
        },
        "outputId": "ead416c1-5fe1-458f-e9c3-5c4988ded371"
      },
      "source": [
        "X = minst[:,1:]\n",
        "Y = minst[:,0]\n",
        "X = tf.keras.utils.normalize(X)\n",
        "X_train, X_test, Y_train, Y_test = train_test_split(X, Y, test_size=0.1)\n",
        "print(X.shape)\n",
        "print(Y.shape)\n",
        "print(X_train.shape)\n",
        "print(Y_train.shape)\n",
        "print(X_test.shape)\n",
        "print(Y_test.shape)"
      ],
      "execution_count": null,
      "outputs": [
        {
          "output_type": "stream",
          "text": [
            "(100, 784)\n",
            "(100,)\n",
            "(90, 784)\n",
            "(90,)\n",
            "(10, 784)\n",
            "(10,)\n"
          ],
          "name": "stdout"
        }
      ]
    },
    {
      "cell_type": "code",
      "metadata": {
        "id": "h6Q8fb1HkHo4",
        "colab": {
          "base_uri": "https://localhost:8080/"
        },
        "outputId": "bdb5bb75-ca43-49f7-e8c7-264b5fd35dd2"
      },
      "source": [
        "Y_train"
      ],
      "execution_count": null,
      "outputs": [
        {
          "output_type": "execute_result",
          "data": {
            "text/plain": [
              "array([9., 1., 3., 8., 9., 0., 4., 1., 8., 3., 0., 8., 5., 0., 8., 1., 6.,\n",
              "       5., 4., 8., 3., 5., 5., 5., 9., 9., 0., 1., 0., 7., 9., 2., 9., 3.,\n",
              "       4., 5., 4., 6., 5., 3., 2., 0., 8., 6., 7., 7., 7., 2., 0., 7., 5.,\n",
              "       0., 2., 1., 1., 2., 4., 9., 6., 3., 1., 0., 8., 3., 6., 6., 2., 9.,\n",
              "       7., 8., 4., 3., 4., 4., 7., 4., 6., 8., 0., 1., 7., 6., 7., 7., 2.,\n",
              "       3., 5., 6., 2., 6.])"
            ]
          },
          "metadata": {
            "tags": []
          },
          "execution_count": 62
        }
      ]
    },
    {
      "cell_type": "code",
      "metadata": {
        "id": "N7oRLOT7abED",
        "colab": {
          "base_uri": "https://localhost:8080/",
          "height": 262
        },
        "outputId": "32c12d88-0a09-42f7-f5e0-d4ce5f0b510b"
      },
      "source": [
        "for i in range(6):\n",
        "  plt.subplot(2,3,i+1)\n",
        "  plt.xticks([])\n",
        "  plt.yticks([])\n",
        "  plt.imshow(X_train[i].reshape(28,28),cmap='gray')\n",
        "  plt.xlabel(Y_train[i])\n",
        "plt.show()"
      ],
      "execution_count": null,
      "outputs": [
        {
          "output_type": "display_data",
          "data": {
            "image/png": "[encoded data removed]",
            "text/plain": [
              "<Figure size 432x288 with 6 Axes>"
            ]
          },
          "metadata": {
            "tags": []
          }
        }
      ]
    },
    {
      "cell_type": "code",
      "metadata": {
        "id": "QSjjX7o9bY9O"
      },
      "source": [
        "# Create Model\n",
        "model = tf.keras.models.Sequential()"
      ],
      "execution_count": null,
      "outputs": []
    },
    {
      "cell_type": "code",
      "metadata": {
        "id": "EZ_YZw3ycEkT"
      },
      "source": [
        "# Input layer, 3 Hidden layer, Output layer\n",
        "model.add(tf.keras.layers.Flatten())   \n",
        "model.add(tf.keras.layers.Dense(784,activation='relu'))  \n",
        "model.add(tf.keras.layers.Dense(800,activation='relu'))  \n",
        "model.add(tf.keras.layers.Dense(400,activation='relu'))   \n",
        "model.add(tf.keras.layers.Dense(10,activation='softmax'))"
      ],
      "execution_count": null,
      "outputs": []
    },
    {
      "cell_type": "code",
      "metadata": {
        "id": "QVXeBP7vdYcL"
      },
      "source": [
        "### Configure the model\n",
        "model.compile(optimizer='Adam',loss='sparse_categorical_crossentropy',metrics=['accuracy'])\n",
        "## cost function = , , mean_squared_error\n",
        "## Optimizaer = Stochastic gradient descent"
      ],
      "execution_count": null,
      "outputs": []
    },
    {
      "cell_type": "code",
      "metadata": {
        "id": "DqCUB5Saeiv7",
        "colab": {
          "base_uri": "https://localhost:8080/"
        },
        "outputId": "bef1f363-e6eb-46b0-fb2c-be5fec012371"
      },
      "source": [
        "# Model Training\n",
        "model.fit(X_train,Y_train,epochs=10)"
      ],
      "execution_count": null,
      "outputs": [
        {
          "output_type": "stream",
          "text": [
            "Epoch 1/10\n",
            "3/3 [==============================] - 1s 31ms/step - loss: 2.2845 - accuracy: 0.2172\n",
            "Epoch 2/10\n",
            "3/3 [==============================] - 0s 30ms/step - loss: 2.1123 - accuracy: 0.3447\n",
            "Epoch 3/10\n",
            "3/3 [==============================] - 0s 35ms/step - loss: 1.8736 - accuracy: 0.3196\n",
            "Epoch 4/10\n",
            "3/3 [==============================] - 0s 30ms/step - loss: 1.5644 - accuracy: 0.3135\n",
            "Epoch 5/10\n",
            "3/3 [==============================] - 0s 30ms/step - loss: 1.4135 - accuracy: 0.2929\n",
            "Epoch 6/10\n",
            "3/3 [==============================] - 0s 30ms/step - loss: 1.2564 - accuracy: 0.3379\n",
            "Epoch 7/10\n",
            "3/3 [==============================] - 0s 30ms/step - loss: 1.1952 - accuracy: 0.4599\n",
            "Epoch 8/10\n",
            "3/3 [==============================] - 0s 32ms/step - loss: 1.1657 - accuracy: 0.4321\n",
            "Epoch 9/10\n",
            "3/3 [==============================] - 0s 29ms/step - loss: 1.3781 - accuracy: 0.3780\n",
            "Epoch 10/10\n",
            "3/3 [==============================] - 0s 30ms/step - loss: 1.3489 - accuracy: 0.3161\n"
          ],
          "name": "stdout"
        },
        {
          "output_type": "execute_result",
          "data": {
            "text/plain": [
              "<tensorflow.python.keras.callbacks.History at 0x7f93a2085d10>"
            ]
          },
          "metadata": {
            "tags": []
          },
          "execution_count": 75
        }
      ]
    },
    {
      "cell_type": "code",
      "metadata": {
        "id": "7oka1zY5e0i6",
        "colab": {
          "base_uri": "https://localhost:8080/"
        },
        "outputId": "c90f4bce-37e6-4714-b9af-a6f962cff920"
      },
      "source": [
        "# Model Test (Predictions)\n",
        "predictions = model.predict(X_test)\n",
        "predictions.shape"
      ],
      "execution_count": null,
      "outputs": [
        {
          "output_type": "execute_result",
          "data": {
            "text/plain": [
              "(10, 10)"
            ]
          },
          "metadata": {
            "tags": []
          },
          "execution_count": 76
        }
      ]
    },
    {
      "cell_type": "code",
      "metadata": {
        "id": "ln0MfpUyfhrP"
      },
      "source": [
        "predictions[1]"
      ],
      "execution_count": null,
      "outputs": []
    },
    {
      "cell_type": "code",
      "metadata": {
        "id": "n82lrHt-h-Q5",
        "colab": {
          "base_uri": "https://localhost:8080/",
          "height": 262
        },
        "outputId": "d18e9ac8-aee2-4592-9fa6-7b765894b5fb"
      },
      "source": [
        "for i in range(6):\n",
        "  plt.subplot(2,3,i+1)\n",
        "  plt.xticks([])\n",
        "  plt.yticks([])\n",
        "  plt.imshow(X_test[i].reshape(28,28),cmap='gray')\n",
        "  plt.xlabel(np.argmax(predictions[i]))\n",
        "plt.show()"
      ],
      "execution_count": null,
      "outputs": [
        {
          "output_type": "display_data",
          "data": {
            "image/png": "[encoded data removed]",
            "text/plain": [
              "<Figure size 432x288 with 6 Axes>"
            ]
          },
          "metadata": {
            "tags": []
          }
        }
      ]
    },
    {
      "cell_type": "code",
      "metadata": {
        "id": "Oi-FUtdkibA3",
        "colab": {
          "base_uri": "https://localhost:8080/"
        },
        "outputId": "5ca64c36-d47e-4266-c917-b98ce33c608c"
      },
      "source": [
        "np.argmax(predictions[1])"
      ],
      "execution_count": null,
      "outputs": [
        {
          "output_type": "execute_result",
          "data": {
            "text/plain": [
              "9"
            ]
          },
          "metadata": {
            "tags": []
          },
          "execution_count": 58
        }
      ]
    },
    {
      "cell_type": "code",
      "metadata": {
        "id": "wu8l0V0-bgN_",
        "colab": {
          "base_uri": "https://localhost:8080/"
        },
        "outputId": "61c322f1-c8ac-4f32-8a1f-c320475f19a4"
      },
      "source": [
        "predictions[1]"
      ],
      "execution_count": null,
      "outputs": [
        {
          "output_type": "execute_result",
          "data": {
            "text/plain": [
              "array([0.09877604, 0.10358731, 0.1004797 , 0.09462449, 0.09947746,\n",
              "       0.09677737, 0.09707205, 0.10396172, 0.10121979, 0.104024  ],\n",
              "      dtype=float32)"
            ]
          },
          "metadata": {
            "tags": []
          },
          "execution_count": 59
        }
      ]
    },
    {
      "cell_type": "code",
      "metadata": {
        "id": "ODpUCJXOjHss",
        "colab": {
          "base_uri": "https://localhost:8080/"
        },
        "outputId": "47b4f689-356c-4b1e-e22b-9a6c4dfabae0"
      },
      "source": [
        "loss,accu = model.evaluate(X_test,Y_test)\n",
        "loss,accu"
      ],
      "execution_count": null,
      "outputs": [
        {
          "output_type": "stream",
          "text": [
            "1/1 [==============================] - 0s 108ms/step - loss: 2.3044 - accuracy: 0.0667\n"
          ],
          "name": "stdout"
        },
        {
          "output_type": "execute_result",
          "data": {
            "text/plain": [
              "(2.304368019104004, 0.06666667014360428)"
            ]
          },
          "metadata": {
            "tags": []
          },
          "execution_count": 60
        }
      ]
    },
    {
      "cell_type": "code",
      "metadata": {
        "id": "Bz1iAAb1f6Cb"
      },
      "source": [
        ""
      ],
      "execution_count": null,
      "outputs": []
    }
  ]
}